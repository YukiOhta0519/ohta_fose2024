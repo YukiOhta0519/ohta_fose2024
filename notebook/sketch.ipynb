{
 "cells": [
  {
   "cell_type": "code",
   "execution_count": 12,
   "metadata": {},
   "outputs": [
    {
     "name": "stdout",
     "output_type": "stream",
     "text": [
      "(8, 183, 212, 279, 316)\n",
      "5\n"
     ]
    }
   ],
   "source": [
    "from pymongo import MongoClient\n",
    "import pandas as pd\n",
    "import os\n",
    "from pathlib import Path\n",
    "\n",
    "__file__ = Path().resolve()\n",
    "project_root = __file__.parent\n",
    "\n",
    "dataset = pd.read_csv(os.path.join(project_root, \"resources\", \"Filtered.csv\"), sep=\";\")\n",
    "\n",
    "index = 0\n",
    "result = []\n",
    "while True:\n",
    "    try:\n",
    "        identifier = dataset.at[index, \"Identifier\"]\n",
    "    except:\n",
    "        break\n",
    "    subjects_path = os.path.join(project_root, \"dest\", \"subjects\", \"{:04}_{}\".format(index, identifier.replace(\"/\", \"_\")))\n",
    "    if not os.path.exists(subjects_path):\n",
    "        result.append(index)\n",
    "    \n",
    "    index += 1\n",
    "\n",
    "print(tuple(result))\n",
    "print(len(result))"
   ]
  },
  {
   "cell_type": "code",
   "execution_count": 1,
   "metadata": {},
   "outputs": [
    {
     "name": "stdout",
     "output_type": "stream",
     "text": [
      "(5, 8, 13, 24, 26, 29, 31, 34, 36, 47, 52, 55, 61, 63, 68, 70, 72, 76, 87, 89, 92, 93, 94, 96, 99, 101, 115, 123, 126, 130, 131, 134, 136, 141, 142, 147, 157, 164, 167, 168, 174, 175, 179, 183, 185, 186, 188, 191, 192, 194, 198, 201, 205, 209, 213, 219, 221, 226, 228, 231, 232, 234, 236, 237, 246, 250, 251, 253, 254, 262, 263, 264, 267, 278, 279, 281, 285, 286, 290, 291, 292, 297, 298, 306, 307, 311, 316, 318, 321, 327, 329, 331, 332, 336, 342, 345, 346, 349, 352, 357, 364, 365, 366, 370)\n",
      "104\n"
     ]
    }
   ],
   "source": [
    "import pandas as pd\n",
    "import os\n",
    "import sqlite3\n",
    "from pathlib import Path\n",
    "\n",
    "__file__ = Path().resolve()\n",
    "project_root = __file__.parent\n",
    "\n",
    "dataset = pd.read_csv(os.path.join(project_root, \"resources\", \"Filtered.csv\"), sep=\";\")\n",
    "\n",
    "\n",
    "db_name = os.path.join(project_root, \"temp\", \"database.db\")\n",
    "conn = sqlite3.connect(db_name)\n",
    "cursor = conn.cursor()\n",
    "\n",
    "skip = []\n",
    "index = 0\n",
    "while True:\n",
    "    try:\n",
    "        identifier = dataset.at[index, \"Identifier\"]\n",
    "    except:\n",
    "        break\n",
    "\n",
    "    cursor.execute(\"SELECT count(*) FROM file_metrics WHERE identifier = ?\", (identifier,))\n",
    "    result = cursor.fetchone()\n",
    "    if result[0] == 0:\n",
    "        skip.append(index)\n",
    "\n",
    "    index += 1\n",
    "\n",
    "print(tuple(skip))\n",
    "print(len(skip))\n"
   ]
  }
 ],
 "metadata": {
  "kernelspec": {
   "display_name": ".venv",
   "language": "python",
   "name": "python3"
  },
  "language_info": {
   "codemirror_mode": {
    "name": "ipython",
    "version": 3
   },
   "file_extension": ".py",
   "mimetype": "text/x-python",
   "name": "python",
   "nbconvert_exporter": "python",
   "pygments_lexer": "ipython3",
   "version": "3.12.3"
  }
 },
 "nbformat": 4,
 "nbformat_minor": 2
}
